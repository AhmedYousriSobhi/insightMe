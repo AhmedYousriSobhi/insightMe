{
 "cells": [
  {
   "cell_type": "markdown",
   "metadata": {},
   "source": [
    "# Data Ingestion Workspace\n",
    "This notebook aims to implement all required functions for data ingestion part in this project."
   ]
  },
  {
   "cell_type": "markdown",
   "metadata": {},
   "source": [
    "## Importing required Libararies, Packages, and Tools"
   ]
  },
  {
   "cell_type": "code",
   "execution_count": 1,
   "metadata": {},
   "outputs": [],
   "source": [
    "import pandas as pd\n",
    "from tools import format_validator"
   ]
  },
  {
   "cell_type": "markdown",
   "metadata": {},
   "source": [
    "## Loading dataset"
   ]
  },
  {
   "cell_type": "code",
   "execution_count": 2,
   "metadata": {},
   "outputs": [
    {
     "name": "stdout",
     "output_type": "stream",
     "text": [
      "Data Source is valid!\n"
     ]
    }
   ],
   "source": [
    "data_source_type = 'csv'\n",
    "\n",
    "source_path_or_url = 'data/dummy_data.csv'\n",
    "\n",
    "if format_validator.validate_data_source(data_source_type, source_path_or_url):\n",
    "    print('Data Source is valid!')\n",
    "else:\n",
    "    print('Invalid data source. Please check the format or URL')    \n"
   ]
  },
  {
   "cell_type": "code",
   "execution_count": 3,
   "metadata": {},
   "outputs": [
    {
     "name": "stdout",
     "output_type": "stream",
     "text": [
      "Data Source is valid!\n"
     ]
    }
   ],
   "source": [
    "data_source_type = 'api'\n",
    "\n",
    "source_path_or_url = 'https://raw.githubusercontent.com/uiuc-cse/data-fa14/gh-pages/data/iris.csv'\n",
    "\n",
    "if format_validator.validate_data_source(data_source_type, source_path_or_url):\n",
    "    print('Data Source is valid!')\n",
    "else:\n",
    "    print('Invalid data source. Please check the format or URL')    \n"
   ]
  },
  {
   "cell_type": "code",
   "execution_count": null,
   "metadata": {},
   "outputs": [],
   "source": []
  }
 ],
 "metadata": {
  "kernelspec": {
   "display_name": "insightme",
   "language": "python",
   "name": "python3"
  },
  "language_info": {
   "codemirror_mode": {
    "name": "ipython",
    "version": 3
   },
   "file_extension": ".py",
   "mimetype": "text/x-python",
   "name": "python",
   "nbconvert_exporter": "python",
   "pygments_lexer": "ipython3",
   "version": "3.11.4"
  },
  "orig_nbformat": 4
 },
 "nbformat": 4,
 "nbformat_minor": 2
}
